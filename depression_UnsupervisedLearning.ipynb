{
  "cells": [
    {
      "cell_type": "markdown",
      "metadata": {
        "id": "view-in-github",
        "colab_type": "text"
      },
      "source": [
        "<a href=\"https://colab.research.google.com/github/madhulathachavali/AIML/blob/main/Depression_UnsupervisedLearning.ipynb\" target=\"_parent\"><img src=\"https://colab.research.google.com/assets/colab-badge.svg\" alt=\"Open In Colab\"/></a>"
      ]
    },
    {
      "cell_type": "markdown",
      "source": [
        "Black and white thinking is characterized by thinking in absolutes. For instance, one thinks he/she is either too good or too bad at something. This is an important variable in the assessment of many psychological disorders.\n",
        "\n",
        "The project aims to determine if there is a relationship between higher levels of black and white thinking, and higher levels of self-reported cases of depression. To understand the data further, K means clustering is used to form clusters and individual clusters are analyzed for simplicity, fatalism, and depression.\n",
        "\n",
        "\n",
        "This study measures black and white thinking using six variables :\n",
        "\n",
        "1. Simplicity or black and white thinking\n",
        "\n",
        "2. Fatalism\n",
        "\n",
        "3. Depression\n",
        "\n",
        "4. Adjusted simplicity\n",
        "\n",
        "5. Adjusted fatalism\n",
        "\n",
        "6. Adjusted depression\n",
        "\n",
        "The last three variables are adjusted by regression for other variables which might affect depression. In this analysis, only first three variables are used.\n",
        "\n",
        "\n",
        "\n",
        "Data Sources:\n",
        "The data used for this study is from the Ginzberg data frame which is based on psychiatric patients hospitalized for depression. Data is from the book Applied Regression Analysis and Generalized Linear Models, Second Edition by Fox, J. (2008).  "
      ],
      "metadata": {
        "id": "xdLKN13UXv_Q"
      }
    },
    {
      "cell_type": "markdown",
      "source": [
        "**1. Import the packages and load the data**"
      ],
      "metadata": {
        "id": "EPV-Sxcl0Clk"
      }
    },
    {
      "cell_type": "code",
      "execution_count": 16,
      "metadata": {
        "id": "UzOqataagQCU"
      },
      "outputs": [],
      "source": [
        "# Load the necessary packages\n",
        "import numpy as np                                    \n",
        "import pandas as pd \n",
        "import seaborn as sns # statistical plots\n",
        "import matplotlib.pyplot as plt #importing plotting libraries\n",
        "%matplotlib inline\n",
        "\n",
        "from sklearn.model_selection import train_test_split\n",
        "from sklearn.cluster import KMeans\n",
        "from scipy.stats import zscore\n"
      ]
    },
    {
      "cell_type": "code",
      "execution_count": 17,
      "metadata": {
        "id": "vTUn1r8Ugbdx",
        "colab": {
          "base_uri": "https://localhost:8080/"
        },
        "outputId": "a72a99aa-c8cb-4868-ec45-fb8856a3499d"
      },
      "outputs": [
        {
          "output_type": "stream",
          "name": "stdout",
          "text": [
            "Drive already mounted at /content/drive; to attempt to forcibly remount, call drive.mount(\"/content/drive\", force_remount=True).\n"
          ]
        }
      ],
      "source": [
        "# Mount Google Drive\n",
        "from google.colab import drive\n",
        "drive.mount('/content/drive')"
      ]
    },
    {
      "cell_type": "code",
      "execution_count": 18,
      "metadata": {
        "id": "d34I6qsCgjCn"
      },
      "outputs": [],
      "source": [
        "# Change directory when needed\n",
        "data_path =\"/content/drive/My Drive/Data/Depression.csv\""
      ]
    },
    {
      "cell_type": "code",
      "execution_count": 19,
      "metadata": {
        "id": "MlFiozUYhWTZ"
      },
      "outputs": [],
      "source": [
        "data=pd.DataFrame(pd.read_csv(data_path))"
      ]
    },
    {
      "cell_type": "markdown",
      "source": [
        "**2. EDA**"
      ],
      "metadata": {
        "id": "2muULrKGI0QW"
      }
    },
    {
      "cell_type": "code",
      "execution_count": 20,
      "metadata": {
        "id": "K9q1aiothDcr",
        "colab": {
          "base_uri": "https://localhost:8080/",
          "height": 206
        },
        "outputId": "660929fb-6da9-4cb0-e7da-8d439b252c02"
      },
      "outputs": [
        {
          "output_type": "execute_result",
          "data": {
            "text/plain": [
              "   id  simplicity  fatalism  depression  adjsimp  adjfatal   adjdep\n",
              "0   1     0.92983   0.35589     0.59870  0.75934   0.10673  0.41865\n",
              "1   2     0.91097   1.18439     0.72787  0.72717   0.99915  0.51688\n",
              "2   3     0.53366  -0.05837     0.53411  0.62176   0.03811  0.70699\n",
              "3   4     0.74118   0.35589     0.56641  0.83522   0.42218  0.65639\n",
              "4   5     0.53366   0.77014     0.50182  0.47697   0.81423  0.53518"
            ],
            "text/html": [
              "\n",
              "  <div id=\"df-cbf1db66-f53d-4f44-8929-5984931f57d4\">\n",
              "    <div class=\"colab-df-container\">\n",
              "      <div>\n",
              "<style scoped>\n",
              "    .dataframe tbody tr th:only-of-type {\n",
              "        vertical-align: middle;\n",
              "    }\n",
              "\n",
              "    .dataframe tbody tr th {\n",
              "        vertical-align: top;\n",
              "    }\n",
              "\n",
              "    .dataframe thead th {\n",
              "        text-align: right;\n",
              "    }\n",
              "</style>\n",
              "<table border=\"1\" class=\"dataframe\">\n",
              "  <thead>\n",
              "    <tr style=\"text-align: right;\">\n",
              "      <th></th>\n",
              "      <th>id</th>\n",
              "      <th>simplicity</th>\n",
              "      <th>fatalism</th>\n",
              "      <th>depression</th>\n",
              "      <th>adjsimp</th>\n",
              "      <th>adjfatal</th>\n",
              "      <th>adjdep</th>\n",
              "    </tr>\n",
              "  </thead>\n",
              "  <tbody>\n",
              "    <tr>\n",
              "      <th>0</th>\n",
              "      <td>1</td>\n",
              "      <td>0.92983</td>\n",
              "      <td>0.35589</td>\n",
              "      <td>0.59870</td>\n",
              "      <td>0.75934</td>\n",
              "      <td>0.10673</td>\n",
              "      <td>0.41865</td>\n",
              "    </tr>\n",
              "    <tr>\n",
              "      <th>1</th>\n",
              "      <td>2</td>\n",
              "      <td>0.91097</td>\n",
              "      <td>1.18439</td>\n",
              "      <td>0.72787</td>\n",
              "      <td>0.72717</td>\n",
              "      <td>0.99915</td>\n",
              "      <td>0.51688</td>\n",
              "    </tr>\n",
              "    <tr>\n",
              "      <th>2</th>\n",
              "      <td>3</td>\n",
              "      <td>0.53366</td>\n",
              "      <td>-0.05837</td>\n",
              "      <td>0.53411</td>\n",
              "      <td>0.62176</td>\n",
              "      <td>0.03811</td>\n",
              "      <td>0.70699</td>\n",
              "    </tr>\n",
              "    <tr>\n",
              "      <th>3</th>\n",
              "      <td>4</td>\n",
              "      <td>0.74118</td>\n",
              "      <td>0.35589</td>\n",
              "      <td>0.56641</td>\n",
              "      <td>0.83522</td>\n",
              "      <td>0.42218</td>\n",
              "      <td>0.65639</td>\n",
              "    </tr>\n",
              "    <tr>\n",
              "      <th>4</th>\n",
              "      <td>5</td>\n",
              "      <td>0.53366</td>\n",
              "      <td>0.77014</td>\n",
              "      <td>0.50182</td>\n",
              "      <td>0.47697</td>\n",
              "      <td>0.81423</td>\n",
              "      <td>0.53518</td>\n",
              "    </tr>\n",
              "  </tbody>\n",
              "</table>\n",
              "</div>\n",
              "      <button class=\"colab-df-convert\" onclick=\"convertToInteractive('df-cbf1db66-f53d-4f44-8929-5984931f57d4')\"\n",
              "              title=\"Convert this dataframe to an interactive table.\"\n",
              "              style=\"display:none;\">\n",
              "        \n",
              "  <svg xmlns=\"http://www.w3.org/2000/svg\" height=\"24px\"viewBox=\"0 0 24 24\"\n",
              "       width=\"24px\">\n",
              "    <path d=\"M0 0h24v24H0V0z\" fill=\"none\"/>\n",
              "    <path d=\"M18.56 5.44l.94 2.06.94-2.06 2.06-.94-2.06-.94-.94-2.06-.94 2.06-2.06.94zm-11 1L8.5 8.5l.94-2.06 2.06-.94-2.06-.94L8.5 2.5l-.94 2.06-2.06.94zm10 10l.94 2.06.94-2.06 2.06-.94-2.06-.94-.94-2.06-.94 2.06-2.06.94z\"/><path d=\"M17.41 7.96l-1.37-1.37c-.4-.4-.92-.59-1.43-.59-.52 0-1.04.2-1.43.59L10.3 9.45l-7.72 7.72c-.78.78-.78 2.05 0 2.83L4 21.41c.39.39.9.59 1.41.59.51 0 1.02-.2 1.41-.59l7.78-7.78 2.81-2.81c.8-.78.8-2.07 0-2.86zM5.41 20L4 18.59l7.72-7.72 1.47 1.35L5.41 20z\"/>\n",
              "  </svg>\n",
              "      </button>\n",
              "      \n",
              "  <style>\n",
              "    .colab-df-container {\n",
              "      display:flex;\n",
              "      flex-wrap:wrap;\n",
              "      gap: 12px;\n",
              "    }\n",
              "\n",
              "    .colab-df-convert {\n",
              "      background-color: #E8F0FE;\n",
              "      border: none;\n",
              "      border-radius: 50%;\n",
              "      cursor: pointer;\n",
              "      display: none;\n",
              "      fill: #1967D2;\n",
              "      height: 32px;\n",
              "      padding: 0 0 0 0;\n",
              "      width: 32px;\n",
              "    }\n",
              "\n",
              "    .colab-df-convert:hover {\n",
              "      background-color: #E2EBFA;\n",
              "      box-shadow: 0px 1px 2px rgba(60, 64, 67, 0.3), 0px 1px 3px 1px rgba(60, 64, 67, 0.15);\n",
              "      fill: #174EA6;\n",
              "    }\n",
              "\n",
              "    [theme=dark] .colab-df-convert {\n",
              "      background-color: #3B4455;\n",
              "      fill: #D2E3FC;\n",
              "    }\n",
              "\n",
              "    [theme=dark] .colab-df-convert:hover {\n",
              "      background-color: #434B5C;\n",
              "      box-shadow: 0px 1px 3px 1px rgba(0, 0, 0, 0.15);\n",
              "      filter: drop-shadow(0px 1px 2px rgba(0, 0, 0, 0.3));\n",
              "      fill: #FFFFFF;\n",
              "    }\n",
              "  </style>\n",
              "\n",
              "      <script>\n",
              "        const buttonEl =\n",
              "          document.querySelector('#df-cbf1db66-f53d-4f44-8929-5984931f57d4 button.colab-df-convert');\n",
              "        buttonEl.style.display =\n",
              "          google.colab.kernel.accessAllowed ? 'block' : 'none';\n",
              "\n",
              "        async function convertToInteractive(key) {\n",
              "          const element = document.querySelector('#df-cbf1db66-f53d-4f44-8929-5984931f57d4');\n",
              "          const dataTable =\n",
              "            await google.colab.kernel.invokeFunction('convertToInteractive',\n",
              "                                                     [key], {});\n",
              "          if (!dataTable) return;\n",
              "\n",
              "          const docLinkHtml = 'Like what you see? Visit the ' +\n",
              "            '<a target=\"_blank\" href=https://colab.research.google.com/notebooks/data_table.ipynb>data table notebook</a>'\n",
              "            + ' to learn more about interactive tables.';\n",
              "          element.innerHTML = '';\n",
              "          dataTable['output_type'] = 'display_data';\n",
              "          await google.colab.output.renderOutput(dataTable, element);\n",
              "          const docLink = document.createElement('div');\n",
              "          docLink.innerHTML = docLinkHtml;\n",
              "          element.appendChild(docLink);\n",
              "        }\n",
              "      </script>\n",
              "    </div>\n",
              "  </div>\n",
              "  "
            ]
          },
          "metadata": {},
          "execution_count": 20
        }
      ],
      "source": [
        "data.head()"
      ]
    },
    {
      "cell_type": "code",
      "source": [
        "data.shape"
      ],
      "metadata": {
        "id": "N9wS6h2D0OrB",
        "colab": {
          "base_uri": "https://localhost:8080/"
        },
        "outputId": "978c5366-b74d-4b55-ae45-fcfc4a9a09da"
      },
      "execution_count": 21,
      "outputs": [
        {
          "output_type": "execute_result",
          "data": {
            "text/plain": [
              "(82, 7)"
            ]
          },
          "metadata": {},
          "execution_count": 21
        }
      ]
    },
    {
      "cell_type": "code",
      "source": [
        "data.nunique()"
      ],
      "metadata": {
        "id": "gHayYGOM-c7J",
        "colab": {
          "base_uri": "https://localhost:8080/"
        },
        "outputId": "e2c27526-eb73-450e-d762-b62eede074eb"
      },
      "execution_count": 22,
      "outputs": [
        {
          "output_type": "execute_result",
          "data": {
            "text/plain": [
              "id            82\n",
              "simplicity    48\n",
              "fatalism      11\n",
              "depression    37\n",
              "adjsimp       80\n",
              "adjfatal      69\n",
              "adjdep        80\n",
              "dtype: int64"
            ]
          },
          "metadata": {},
          "execution_count": 22
        }
      ]
    },
    {
      "cell_type": "code",
      "source": [
        "data.isnull().sum() # no missing values"
      ],
      "metadata": {
        "id": "AXQix7B7-grm",
        "colab": {
          "base_uri": "https://localhost:8080/"
        },
        "outputId": "274b714d-44a8-4ee5-fe6d-4afa2213e8fa"
      },
      "execution_count": 23,
      "outputs": [
        {
          "output_type": "execute_result",
          "data": {
            "text/plain": [
              "id            0\n",
              "simplicity    0\n",
              "fatalism      0\n",
              "depression    0\n",
              "adjsimp       0\n",
              "adjfatal      0\n",
              "adjdep        0\n",
              "dtype: int64"
            ]
          },
          "metadata": {},
          "execution_count": 23
        }
      ]
    },
    {
      "cell_type": "code",
      "source": [
        "data.describe().T"
      ],
      "metadata": {
        "id": "VC2YgDfdG-0M",
        "colab": {
          "base_uri": "https://localhost:8080/",
          "height": 269
        },
        "outputId": "ac0e915f-b72d-419e-cdf4-7a90ed1a82d8"
      },
      "execution_count": 24,
      "outputs": [
        {
          "output_type": "execute_result",
          "data": {
            "text/plain": [
              "            count       mean        std      min        25%        50%  \\\n",
              "id           82.0  41.500000  23.815261  1.00000  21.250000  41.500000   \n",
              "simplicity   82.0   1.000000   0.500000  0.25068   0.656282   0.882665   \n",
              "fatalism     82.0   1.000000   0.500001 -0.05837   0.563010   0.977270   \n",
              "depression   82.0   1.000001   0.500000  0.46953   0.566410   0.824750   \n",
              "adjsimp      82.0   1.000000   0.499999  0.23569   0.697958   0.968490   \n",
              "adjfatal     82.0   1.000000   0.500000  0.03012   0.731598   0.924290   \n",
              "adjdep       82.0   1.000000   0.500000  0.23454   0.596565   0.967845   \n",
              "\n",
              "                 75%       max  \n",
              "id          61.75000  82.00000  \n",
              "simplicity   1.26940   2.85408  \n",
              "fatalism     1.39152   2.22003  \n",
              "depression   1.37373   2.24565  \n",
              "adjsimp      1.20179   2.94977  \n",
              "adjfatal     1.29912   2.24931  \n",
              "adjdep       1.26175   2.78763  "
            ],
            "text/html": [
              "\n",
              "  <div id=\"df-91d14004-b4f8-4932-aef1-e260875d0fb5\">\n",
              "    <div class=\"colab-df-container\">\n",
              "      <div>\n",
              "<style scoped>\n",
              "    .dataframe tbody tr th:only-of-type {\n",
              "        vertical-align: middle;\n",
              "    }\n",
              "\n",
              "    .dataframe tbody tr th {\n",
              "        vertical-align: top;\n",
              "    }\n",
              "\n",
              "    .dataframe thead th {\n",
              "        text-align: right;\n",
              "    }\n",
              "</style>\n",
              "<table border=\"1\" class=\"dataframe\">\n",
              "  <thead>\n",
              "    <tr style=\"text-align: right;\">\n",
              "      <th></th>\n",
              "      <th>count</th>\n",
              "      <th>mean</th>\n",
              "      <th>std</th>\n",
              "      <th>min</th>\n",
              "      <th>25%</th>\n",
              "      <th>50%</th>\n",
              "      <th>75%</th>\n",
              "      <th>max</th>\n",
              "    </tr>\n",
              "  </thead>\n",
              "  <tbody>\n",
              "    <tr>\n",
              "      <th>id</th>\n",
              "      <td>82.0</td>\n",
              "      <td>41.500000</td>\n",
              "      <td>23.815261</td>\n",
              "      <td>1.00000</td>\n",
              "      <td>21.250000</td>\n",
              "      <td>41.500000</td>\n",
              "      <td>61.75000</td>\n",
              "      <td>82.00000</td>\n",
              "    </tr>\n",
              "    <tr>\n",
              "      <th>simplicity</th>\n",
              "      <td>82.0</td>\n",
              "      <td>1.000000</td>\n",
              "      <td>0.500000</td>\n",
              "      <td>0.25068</td>\n",
              "      <td>0.656282</td>\n",
              "      <td>0.882665</td>\n",
              "      <td>1.26940</td>\n",
              "      <td>2.85408</td>\n",
              "    </tr>\n",
              "    <tr>\n",
              "      <th>fatalism</th>\n",
              "      <td>82.0</td>\n",
              "      <td>1.000000</td>\n",
              "      <td>0.500001</td>\n",
              "      <td>-0.05837</td>\n",
              "      <td>0.563010</td>\n",
              "      <td>0.977270</td>\n",
              "      <td>1.39152</td>\n",
              "      <td>2.22003</td>\n",
              "    </tr>\n",
              "    <tr>\n",
              "      <th>depression</th>\n",
              "      <td>82.0</td>\n",
              "      <td>1.000001</td>\n",
              "      <td>0.500000</td>\n",
              "      <td>0.46953</td>\n",
              "      <td>0.566410</td>\n",
              "      <td>0.824750</td>\n",
              "      <td>1.37373</td>\n",
              "      <td>2.24565</td>\n",
              "    </tr>\n",
              "    <tr>\n",
              "      <th>adjsimp</th>\n",
              "      <td>82.0</td>\n",
              "      <td>1.000000</td>\n",
              "      <td>0.499999</td>\n",
              "      <td>0.23569</td>\n",
              "      <td>0.697958</td>\n",
              "      <td>0.968490</td>\n",
              "      <td>1.20179</td>\n",
              "      <td>2.94977</td>\n",
              "    </tr>\n",
              "    <tr>\n",
              "      <th>adjfatal</th>\n",
              "      <td>82.0</td>\n",
              "      <td>1.000000</td>\n",
              "      <td>0.500000</td>\n",
              "      <td>0.03012</td>\n",
              "      <td>0.731598</td>\n",
              "      <td>0.924290</td>\n",
              "      <td>1.29912</td>\n",
              "      <td>2.24931</td>\n",
              "    </tr>\n",
              "    <tr>\n",
              "      <th>adjdep</th>\n",
              "      <td>82.0</td>\n",
              "      <td>1.000000</td>\n",
              "      <td>0.500000</td>\n",
              "      <td>0.23454</td>\n",
              "      <td>0.596565</td>\n",
              "      <td>0.967845</td>\n",
              "      <td>1.26175</td>\n",
              "      <td>2.78763</td>\n",
              "    </tr>\n",
              "  </tbody>\n",
              "</table>\n",
              "</div>\n",
              "      <button class=\"colab-df-convert\" onclick=\"convertToInteractive('df-91d14004-b4f8-4932-aef1-e260875d0fb5')\"\n",
              "              title=\"Convert this dataframe to an interactive table.\"\n",
              "              style=\"display:none;\">\n",
              "        \n",
              "  <svg xmlns=\"http://www.w3.org/2000/svg\" height=\"24px\"viewBox=\"0 0 24 24\"\n",
              "       width=\"24px\">\n",
              "    <path d=\"M0 0h24v24H0V0z\" fill=\"none\"/>\n",
              "    <path d=\"M18.56 5.44l.94 2.06.94-2.06 2.06-.94-2.06-.94-.94-2.06-.94 2.06-2.06.94zm-11 1L8.5 8.5l.94-2.06 2.06-.94-2.06-.94L8.5 2.5l-.94 2.06-2.06.94zm10 10l.94 2.06.94-2.06 2.06-.94-2.06-.94-.94-2.06-.94 2.06-2.06.94z\"/><path d=\"M17.41 7.96l-1.37-1.37c-.4-.4-.92-.59-1.43-.59-.52 0-1.04.2-1.43.59L10.3 9.45l-7.72 7.72c-.78.78-.78 2.05 0 2.83L4 21.41c.39.39.9.59 1.41.59.51 0 1.02-.2 1.41-.59l7.78-7.78 2.81-2.81c.8-.78.8-2.07 0-2.86zM5.41 20L4 18.59l7.72-7.72 1.47 1.35L5.41 20z\"/>\n",
              "  </svg>\n",
              "      </button>\n",
              "      \n",
              "  <style>\n",
              "    .colab-df-container {\n",
              "      display:flex;\n",
              "      flex-wrap:wrap;\n",
              "      gap: 12px;\n",
              "    }\n",
              "\n",
              "    .colab-df-convert {\n",
              "      background-color: #E8F0FE;\n",
              "      border: none;\n",
              "      border-radius: 50%;\n",
              "      cursor: pointer;\n",
              "      display: none;\n",
              "      fill: #1967D2;\n",
              "      height: 32px;\n",
              "      padding: 0 0 0 0;\n",
              "      width: 32px;\n",
              "    }\n",
              "\n",
              "    .colab-df-convert:hover {\n",
              "      background-color: #E2EBFA;\n",
              "      box-shadow: 0px 1px 2px rgba(60, 64, 67, 0.3), 0px 1px 3px 1px rgba(60, 64, 67, 0.15);\n",
              "      fill: #174EA6;\n",
              "    }\n",
              "\n",
              "    [theme=dark] .colab-df-convert {\n",
              "      background-color: #3B4455;\n",
              "      fill: #D2E3FC;\n",
              "    }\n",
              "\n",
              "    [theme=dark] .colab-df-convert:hover {\n",
              "      background-color: #434B5C;\n",
              "      box-shadow: 0px 1px 3px 1px rgba(0, 0, 0, 0.15);\n",
              "      filter: drop-shadow(0px 1px 2px rgba(0, 0, 0, 0.3));\n",
              "      fill: #FFFFFF;\n",
              "    }\n",
              "  </style>\n",
              "\n",
              "      <script>\n",
              "        const buttonEl =\n",
              "          document.querySelector('#df-91d14004-b4f8-4932-aef1-e260875d0fb5 button.colab-df-convert');\n",
              "        buttonEl.style.display =\n",
              "          google.colab.kernel.accessAllowed ? 'block' : 'none';\n",
              "\n",
              "        async function convertToInteractive(key) {\n",
              "          const element = document.querySelector('#df-91d14004-b4f8-4932-aef1-e260875d0fb5');\n",
              "          const dataTable =\n",
              "            await google.colab.kernel.invokeFunction('convertToInteractive',\n",
              "                                                     [key], {});\n",
              "          if (!dataTable) return;\n",
              "\n",
              "          const docLinkHtml = 'Like what you see? Visit the ' +\n",
              "            '<a target=\"_blank\" href=https://colab.research.google.com/notebooks/data_table.ipynb>data table notebook</a>'\n",
              "            + ' to learn more about interactive tables.';\n",
              "          element.innerHTML = '';\n",
              "          dataTable['output_type'] = 'display_data';\n",
              "          await google.colab.output.renderOutput(dataTable, element);\n",
              "          const docLink = document.createElement('div');\n",
              "          docLink.innerHTML = docLinkHtml;\n",
              "          element.appendChild(docLink);\n",
              "        }\n",
              "      </script>\n",
              "    </div>\n",
              "  </div>\n",
              "  "
            ]
          },
          "metadata": {},
          "execution_count": 24
        }
      ]
    },
    {
      "cell_type": "code",
      "source": [
        "data.info()"
      ],
      "metadata": {
        "id": "StF8x-kSIa9Z",
        "colab": {
          "base_uri": "https://localhost:8080/"
        },
        "outputId": "e144c44a-7f8c-4d2c-8b51-d9e57226ff03"
      },
      "execution_count": 25,
      "outputs": [
        {
          "output_type": "stream",
          "name": "stdout",
          "text": [
            "<class 'pandas.core.frame.DataFrame'>\n",
            "RangeIndex: 82 entries, 0 to 81\n",
            "Data columns (total 7 columns):\n",
            " #   Column      Non-Null Count  Dtype  \n",
            "---  ------      --------------  -----  \n",
            " 0   id          82 non-null     int64  \n",
            " 1   simplicity  82 non-null     float64\n",
            " 2   fatalism    82 non-null     float64\n",
            " 3   depression  82 non-null     float64\n",
            " 4   adjsimp     82 non-null     float64\n",
            " 5   adjfatal    82 non-null     float64\n",
            " 6   adjdep      82 non-null     float64\n",
            "dtypes: float64(6), int64(1)\n",
            "memory usage: 4.6 KB\n"
          ]
        }
      ]
    },
    {
      "cell_type": "markdown",
      "source": [
        "Descriptive analysis\n",
        "\n",
        "1. There are 82 observations in total with no missing values\n",
        "2. All variables are ‘float’\n",
        "3. Simplicity has a mean of 1 with a standard deviation 0.5. Values range from 0.25 to 2.85.\n",
        "4. Fatalism has a mean of 1 with a standard deviation 0.49. Values range from 0.05 to 2.22.\n",
        "5. Depression has a mean of 1 with a standard deviation 0.5. Values range from 0.46 to 2.24."
      ],
      "metadata": {
        "id": "q4BW1aEopX8g"
      }
    },
    {
      "cell_type": "code",
      "source": [
        "##Remove id since it is redundant\n",
        "data.drop('id', axis=1, inplace=True)"
      ],
      "metadata": {
        "id": "obXQeUmWZop6"
      },
      "execution_count": 26,
      "outputs": []
    },
    {
      "cell_type": "code",
      "source": [
        "corr = data.corr()\n",
        "sns.heatmap(corr, annot = True)"
      ],
      "metadata": {
        "id": "ILOthhfVZgDA",
        "colab": {
          "base_uri": "https://localhost:8080/",
          "height": 332
        },
        "outputId": "7e25ccff-d63e-4596-a51b-e1250b271f3c"
      },
      "execution_count": 27,
      "outputs": [
        {
          "output_type": "execute_result",
          "data": {
            "text/plain": [
              "<matplotlib.axes._subplots.AxesSubplot at 0x7feb411480d0>"
            ]
          },
          "metadata": {},
          "execution_count": 27
        },
        {
          "output_type": "display_data",
          "data": {
            "text/plain": [
              "<Figure size 432x288 with 2 Axes>"
            ],
            "image/png": "[encoded data removed]"
          },
          "metadata": {
            "needs_background": "light"
          }
        }
      ]
    },
    {
      "cell_type": "markdown",
      "source": [
        "Correlation Matrix\n",
        "\n",
        "The Pearson correlation coefficient is a measure of linear association between two variables. Values of the correlation coefficient are always between -1 and +1. Perfect correlation is indicated by +1 and the opposite is indicated by -1. Zero means no correlation.\n",
        "\n",
        "The correlation heatmap shows that all the variables are highly correlated. The correlation coefficient between simplicity and depression (0.64) is strong and positive. A positive value of the correlation coefficient implies that the higher levels of simplicity or black and white thinking is associated with higher levels of depression. Similar values were observed for simplicity and fatalism (0.63), and depression and fatalism (0.66)\n",
        "\n",
        "The linear and positive relationship between simplicity and depression, and simplicity and fatalism are shown in the below graphs. It is important to note that correlation does not indicate casualty and is only indicative of a relationship between the two variables."
      ],
      "metadata": {
        "id": "40xd2nHbqDPU"
      }
    },
    {
      "cell_type": "code",
      "source": [
        "sns.displot(data, x=\"simplicity\", kde='True')\n",
        "# sns.displot(data_scaled, x=\"depression\", kde='True')"
      ],
      "metadata": {
        "colab": {
          "base_uri": "https://localhost:8080/",
          "height": 387
        },
        "id": "nZe94AN0Abyx",
        "outputId": "9a76dd40-0f9e-451d-ef0a-182241601e5b"
      },
      "execution_count": 28,
      "outputs": [
        {
          "output_type": "execute_result",
          "data": {
            "text/plain": [
              "<seaborn.axisgrid.FacetGrid at 0x7feb3e018750>"
            ]
          },
          "metadata": {},
          "execution_count": 28
        },
        {
          "output_type": "display_data",
          "data": {
            "text/plain": [
              "<Figure size 360x360 with 1 Axes>"
            ],
            "image/png": "[encoded data removed]"
          },
          "metadata": {
            "needs_background": "light"
          }
        }
      ]
    },
    {
      "cell_type": "code",
      "source": [
        "data.drop(columns = {'adjsimp', 'adjfatal','adjdep'}, inplace=True)\n",
        "sns.pairplot(data, diag_kind='kde')"
      ],
      "metadata": {
        "id": "bDiRM9Ml9X9p",
        "colab": {
          "base_uri": "https://localhost:8080/",
          "height": 568
        },
        "outputId": "0cd36f51-5349-450e-adc9-8b533e13fe8e"
      },
      "execution_count": 29,
      "outputs": [
        {
          "output_type": "execute_result",
          "data": {
            "text/plain": [
              "<seaborn.axisgrid.PairGrid at 0x7feb3e0d24d0>"
            ]
          },
          "metadata": {},
          "execution_count": 29
        },
        {
          "output_type": "display_data",
          "data": {
            "text/plain": [
              "<Figure size 540x540 with 12 Axes>"
            ],
            "image/png": "[encoded data removed]"
          },
          "metadata": {
            "needs_background": "light"
          }
        }
      ]
    },
    {
      "cell_type": "markdown",
      "source": [
        "Univariate analysis\n",
        "\n",
        "1. Simplicity has a positively skewed distribution\n",
        "2. Fatalism has a uniform distribution\n",
        "3. Depression has two distributions indicated by 2 peaks in the below graph\n",
        "\n"
      ],
      "metadata": {
        "id": "pFSV-2Bb-anm"
      }
    },
    {
      "cell_type": "code",
      "source": [
        "sns.lmplot(x=\"simplicity\", y=\"depression\", data=data, palette=\"Set1\")"
      ],
      "metadata": {
        "colab": {
          "base_uri": "https://localhost:8080/",
          "height": 387
        },
        "id": "2Kb-_2HrrI4S",
        "outputId": "2970c9af-9543-4231-df66-26cff28fc9e4"
      },
      "execution_count": 30,
      "outputs": [
        {
          "output_type": "execute_result",
          "data": {
            "text/plain": [
              "<seaborn.axisgrid.FacetGrid at 0x7feb3db2e510>"
            ]
          },
          "metadata": {},
          "execution_count": 30
        },
        {
          "output_type": "display_data",
          "data": {
            "text/plain": [
              "<Figure size 360x360 with 1 Axes>"
            ],
            "image/png": "[encoded data removed]"
          },
          "metadata": {
            "needs_background": "light"
          }
        }
      ]
    },
    {
      "cell_type": "code",
      "source": [
        "data['simplicity'].corr(data['depression'])"
      ],
      "metadata": {
        "colab": {
          "base_uri": "https://localhost:8080/"
        },
        "id": "OpUd3q50rW5x",
        "outputId": "c34f69fe-c426-4325-d1c6-314adee65000"
      },
      "execution_count": 31,
      "outputs": [
        {
          "output_type": "execute_result",
          "data": {
            "text/plain": [
              "0.6432667885861316"
            ]
          },
          "metadata": {},
          "execution_count": 31
        }
      ]
    },
    {
      "cell_type": "code",
      "source": [
        "# lmplot for simplicity and fatalism\n",
        "sns.lmplot(x=\"simplicity\", y=\"fatalism\", data=data,line_kws={'color': 'green'}, scatter_kws={'color': 'green'})"
      ],
      "metadata": {
        "colab": {
          "base_uri": "https://localhost:8080/",
          "height": 387
        },
        "id": "hvXVvqAorYg9",
        "outputId": "6da284a1-b14b-48d3-b04a-9443359952c6"
      },
      "execution_count": 32,
      "outputs": [
        {
          "output_type": "execute_result",
          "data": {
            "text/plain": [
              "<seaborn.axisgrid.FacetGrid at 0x7feb3da97790>"
            ]
          },
          "metadata": {},
          "execution_count": 32
        },
        {
          "output_type": "display_data",
          "data": {
            "text/plain": [
              "<Figure size 360x360 with 1 Axes>"
            ],
            "image/png": "[encoded data removed]"
          },
          "metadata": {
            "needs_background": "light"
          }
        }
      ]
    },
    {
      "cell_type": "code",
      "source": [
        "data['simplicity'].corr(data['fatalism'])"
      ],
      "metadata": {
        "colab": {
          "base_uri": "https://localhost:8080/"
        },
        "id": "vHB_-fWwrmcO",
        "outputId": "d2b89c70-8e02-47f0-cfe3-95f7f93adcb6"
      },
      "execution_count": 33,
      "outputs": [
        {
          "output_type": "execute_result",
          "data": {
            "text/plain": [
              "0.6312820091181763"
            ]
          },
          "metadata": {},
          "execution_count": 33
        }
      ]
    },
    {
      "cell_type": "code",
      "source": [
        "# lmplot for depression and fatalism\n",
        "sns.lmplot(x=\"depression\", y=\"fatalism\", data=data,line_kws={'color': 'red'}, scatter_kws={'color': 'red'})"
      ],
      "metadata": {
        "colab": {
          "base_uri": "https://localhost:8080/",
          "height": 387
        },
        "id": "X4-IhYHMriWF",
        "outputId": "79ba7051-e9a8-40c0-f4b0-10c3d39ee30b"
      },
      "execution_count": 34,
      "outputs": [
        {
          "output_type": "execute_result",
          "data": {
            "text/plain": [
              "<seaborn.axisgrid.FacetGrid at 0x7feb3da182d0>"
            ]
          },
          "metadata": {},
          "execution_count": 34
        },
        {
          "output_type": "display_data",
          "data": {
            "text/plain": [
              "<Figure size 360x360 with 1 Axes>"
            ],
            "image/png": "[encoded data removed]"
          },
          "metadata": {
            "needs_background": "light"
          }
        }
      ]
    },
    {
      "cell_type": "code",
      "source": [
        "data['depression'].corr(data['fatalism'])"
      ],
      "metadata": {
        "colab": {
          "base_uri": "https://localhost:8080/"
        },
        "id": "n2DmqX6zryGG",
        "outputId": "a9302694-7c96-4c81-cdd3-b7b5e15f2aa7"
      },
      "execution_count": 35,
      "outputs": [
        {
          "output_type": "execute_result",
          "data": {
            "text/plain": [
              "0.6573673695588931"
            ]
          },
          "metadata": {},
          "execution_count": 35
        }
      ]
    },
    {
      "cell_type": "markdown",
      "source": [
        "The linear and positive relationship between simplicity and depression, and simplicity and fatalism are shown in the above graphs. It is important to note that correlation does not indicate casualty and is only indicative of a relationship between the two variables.\n",
        "\n",
        "\n",
        "\n",
        "**Normalization**\n",
        "\n",
        "\n",
        "As there are many outliers as seen in the linear plots above, grouping the data helps to identify hidden patterns. Before grouping, the dataset is normalized. It is essential for this dataset as the variables do not have uniform distribution (as seen in the pairplot above). In this analysis, Z score normalization is used. Z score normalizes the mean of all observations to 0 and the standard deviation to 1 . Z score is number of standard deviations away from mean. This scaling is better when units and magnitude of the each variables are different."
      ],
      "metadata": {
        "id": "Djc7Cf6Vr5_H"
      }
    },
    {
      "cell_type": "code",
      "source": [
        "data_scaled=data.apply(zscore)\n",
        "data_scaled.head()"
      ],
      "metadata": {
        "id": "UPLTbMBedxMR",
        "colab": {
          "base_uri": "https://localhost:8080/",
          "height": 206
        },
        "outputId": "41aea619-5837-4e96-cd05-8af2eb49bea8"
      },
      "execution_count": 36,
      "outputs": [
        {
          "output_type": "execute_result",
          "data": {
            "text/plain": [
              "   simplicity  fatalism  depression\n",
              "0   -0.141205 -1.296147   -0.807541\n",
              "1   -0.179157  0.371048   -0.547611\n",
              "2   -0.938421 -2.129764   -0.937516\n",
              "3   -0.520827 -1.296147   -0.872518\n",
              "4   -0.938421 -0.462549   -1.002493"
            ],
            "text/html": [
              "\n",
              "  <div id=\"df-4e4e7bb6-1a81-40a1-95d1-68417c34482f\">\n",
              "    <div class=\"colab-df-container\">\n",
              "      <div>\n",
              "<style scoped>\n",
              "    .dataframe tbody tr th:only-of-type {\n",
              "        vertical-align: middle;\n",
              "    }\n",
              "\n",
              "    .dataframe tbody tr th {\n",
              "        vertical-align: top;\n",
              "    }\n",
              "\n",
              "    .dataframe thead th {\n",
              "        text-align: right;\n",
              "    }\n",
              "</style>\n",
              "<table border=\"1\" class=\"dataframe\">\n",
              "  <thead>\n",
              "    <tr style=\"text-align: right;\">\n",
              "      <th></th>\n",
              "      <th>simplicity</th>\n",
              "      <th>fatalism</th>\n",
              "      <th>depression</th>\n",
              "    </tr>\n",
              "  </thead>\n",
              "  <tbody>\n",
              "    <tr>\n",
              "      <th>0</th>\n",
              "      <td>-0.141205</td>\n",
              "      <td>-1.296147</td>\n",
              "      <td>-0.807541</td>\n",
              "    </tr>\n",
              "    <tr>\n",
              "      <th>1</th>\n",
              "      <td>-0.179157</td>\n",
              "      <td>0.371048</td>\n",
              "      <td>-0.547611</td>\n",
              "    </tr>\n",
              "    <tr>\n",
              "      <th>2</th>\n",
              "      <td>-0.938421</td>\n",
              "      <td>-2.129764</td>\n",
              "      <td>-0.937516</td>\n",
              "    </tr>\n",
              "    <tr>\n",
              "      <th>3</th>\n",
              "      <td>-0.520827</td>\n",
              "      <td>-1.296147</td>\n",
              "      <td>-0.872518</td>\n",
              "    </tr>\n",
              "    <tr>\n",
              "      <th>4</th>\n",
              "      <td>-0.938421</td>\n",
              "      <td>-0.462549</td>\n",
              "      <td>-1.002493</td>\n",
              "    </tr>\n",
              "  </tbody>\n",
              "</table>\n",
              "</div>\n",
              "      <button class=\"colab-df-convert\" onclick=\"convertToInteractive('df-4e4e7bb6-1a81-40a1-95d1-68417c34482f')\"\n",
              "              title=\"Convert this dataframe to an interactive table.\"\n",
              "              style=\"display:none;\">\n",
              "        \n",
              "  <svg xmlns=\"http://www.w3.org/2000/svg\" height=\"24px\"viewBox=\"0 0 24 24\"\n",
              "       width=\"24px\">\n",
              "    <path d=\"M0 0h24v24H0V0z\" fill=\"none\"/>\n",
              "    <path d=\"M18.56 5.44l.94 2.06.94-2.06 2.06-.94-2.06-.94-.94-2.06-.94 2.06-2.06.94zm-11 1L8.5 8.5l.94-2.06 2.06-.94-2.06-.94L8.5 2.5l-.94 2.06-2.06.94zm10 10l.94 2.06.94-2.06 2.06-.94-2.06-.94-.94-2.06-.94 2.06-2.06.94z\"/><path d=\"M17.41 7.96l-1.37-1.37c-.4-.4-.92-.59-1.43-.59-.52 0-1.04.2-1.43.59L10.3 9.45l-7.72 7.72c-.78.78-.78 2.05 0 2.83L4 21.41c.39.39.9.59 1.41.59.51 0 1.02-.2 1.41-.59l7.78-7.78 2.81-2.81c.8-.78.8-2.07 0-2.86zM5.41 20L4 18.59l7.72-7.72 1.47 1.35L5.41 20z\"/>\n",
              "  </svg>\n",
              "      </button>\n",
              "      \n",
              "  <style>\n",
              "    .colab-df-container {\n",
              "      display:flex;\n",
              "      flex-wrap:wrap;\n",
              "      gap: 12px;\n",
              "    }\n",
              "\n",
              "    .colab-df-convert {\n",
              "      background-color: #E8F0FE;\n",
              "      border: none;\n",
              "      border-radius: 50%;\n",
              "      cursor: pointer;\n",
              "      display: none;\n",
              "      fill: #1967D2;\n",
              "      height: 32px;\n",
              "      padding: 0 0 0 0;\n",
              "      width: 32px;\n",
              "    }\n",
              "\n",
              "    .colab-df-convert:hover {\n",
              "      background-color: #E2EBFA;\n",
              "      box-shadow: 0px 1px 2px rgba(60, 64, 67, 0.3), 0px 1px 3px 1px rgba(60, 64, 67, 0.15);\n",
              "      fill: #174EA6;\n",
              "    }\n",
              "\n",
              "    [theme=dark] .colab-df-convert {\n",
              "      background-color: #3B4455;\n",
              "      fill: #D2E3FC;\n",
              "    }\n",
              "\n",
              "    [theme=dark] .colab-df-convert:hover {\n",
              "      background-color: #434B5C;\n",
              "      box-shadow: 0px 1px 3px 1px rgba(0, 0, 0, 0.15);\n",
              "      filter: drop-shadow(0px 1px 2px rgba(0, 0, 0, 0.3));\n",
              "      fill: #FFFFFF;\n",
              "    }\n",
              "  </style>\n",
              "\n",
              "      <script>\n",
              "        const buttonEl =\n",
              "          document.querySelector('#df-4e4e7bb6-1a81-40a1-95d1-68417c34482f button.colab-df-convert');\n",
              "        buttonEl.style.display =\n",
              "          google.colab.kernel.accessAllowed ? 'block' : 'none';\n",
              "\n",
              "        async function convertToInteractive(key) {\n",
              "          const element = document.querySelector('#df-4e4e7bb6-1a81-40a1-95d1-68417c34482f');\n",
              "          const dataTable =\n",
              "            await google.colab.kernel.invokeFunction('convertToInteractive',\n",
              "                                                     [key], {});\n",
              "          if (!dataTable) return;\n",
              "\n",
              "          const docLinkHtml = 'Like what you see? Visit the ' +\n",
              "            '<a target=\"_blank\" href=https://colab.research.google.com/notebooks/data_table.ipynb>data table notebook</a>'\n",
              "            + ' to learn more about interactive tables.';\n",
              "          element.innerHTML = '';\n",
              "          dataTable['output_type'] = 'display_data';\n",
              "          await google.colab.output.renderOutput(dataTable, element);\n",
              "          const docLink = document.createElement('div');\n",
              "          docLink.innerHTML = docLinkHtml;\n",
              "          element.appendChild(docLink);\n",
              "        }\n",
              "      </script>\n",
              "    </div>\n",
              "  </div>\n",
              "  "
            ]
          },
          "metadata": {},
          "execution_count": 36
        }
      ]
    },
    {
      "cell_type": "markdown",
      "source": [
        "***3. Group Data into similar clusters***\n",
        "\n",
        "K-means clustering\n",
        "\n",
        "k-means is an unsupervised learning algorithm that divides the data into clusters based on similarities, minimizing the variance. But first, we have to select the optimal k value using the commonly used elbow method. In the below graph, the k-means model is fitted with a range of k values from 1 to 10. The line represents the arm and the inflection of the arm is an indication of an optimal number of clusters to be selected.\n",
        "\n"
      ],
      "metadata": {
        "id": "nCr-r-agJ8Ug"
      }
    },
    {
      "cell_type": "code",
      "source": [
        "# Finding optimal no. of elements\n",
        "from scipy.spatial.distance import cdist\n",
        "clusters=range(1,10) # Cluster range \n",
        "meanDistortions=[]\n",
        "\n",
        "for k in clusters:\n",
        "    model=KMeans(n_clusters=k)\n",
        "    model.fit(data_scaled)\n",
        "    prediction=model.predict(data_scaled)\n",
        "    meanDistortions.append(sum(np.min(cdist(data_scaled, model.cluster_centers_, 'minkowski'), axis=1)) / data_scaled.shape[0])\n",
        "plt.plot(clusters, meanDistortions, 'bx-')\n",
        "plt.xlabel('k')\n",
        "plt.title('Selection of k using Elbow Method')"
      ],
      "metadata": {
        "colab": {
          "base_uri": "https://localhost:8080/",
          "height": 313
        },
        "id": "-m7vzEM5LMn4",
        "outputId": "b459a05e-bab4-46b5-fa39-5c2e067e182e"
      },
      "execution_count": 37,
      "outputs": [
        {
          "output_type": "execute_result",
          "data": {
            "text/plain": [
              "Text(0.5, 1.0, 'Selection of k using Elbow Method')"
            ]
          },
          "metadata": {},
          "execution_count": 37
        },
        {
          "output_type": "display_data",
          "data": {
            "text/plain": [
              "<Figure size 432x288 with 1 Axes>"
            ],
            "image/png": "[encoded data removed]"
          },
          "metadata": {
            "needs_background": "light"
          }
        }
      ]
    },
    {
      "cell_type": "markdown",
      "source": [
        "Analysis of clusters (k=3)\n",
        "\n",
        "A bend is observed at 3 using Minkowski distance (Combination of Euclidean and Manhattan Distance). In the elbow method. Other distances can be explored to get discrete groups. Next, the K-means model with k=3 is fitted and predicted on scaled data, thus forming 3 clusters. The prediction column is added to both original and scaled data to further analyze the distribution of each cluster.\n"
      ],
      "metadata": {
        "id": "R6C5OSj4Laqf"
      }
    },
    {
      "cell_type": "markdown",
      "source": [
        "**K = 3**"
      ],
      "metadata": {
        "id": "4LlZWMyPtxoS"
      }
    },
    {
      "cell_type": "code",
      "source": [
        "# Let us first start with K = 3\n",
        "modelk3=KMeans(3)\n",
        "modelk3.fit(data_scaled)\n",
        "prediction=modelk3.predict(data_scaled)\n",
        "\n",
        "#Append the prediction \n",
        "data[\"GROUPk3\"] = prediction\n",
        "data_scaled[\"GROUPk3\"] = prediction\n",
        "print(\"Three Groups Assigned : \\n\")\n",
        "data.head()"
      ],
      "metadata": {
        "id": "w6MS9QwyM6lU",
        "colab": {
          "base_uri": "https://localhost:8080/",
          "height": 243
        },
        "outputId": "56e4874d-c7dd-43c8-d414-1bcb7234aaf2"
      },
      "execution_count": 38,
      "outputs": [
        {
          "output_type": "stream",
          "name": "stdout",
          "text": [
            "Three Groups Assigned : \n",
            "\n"
          ]
        },
        {
          "output_type": "execute_result",
          "data": {
            "text/plain": [
              "   simplicity  fatalism  depression  GROUPk3\n",
              "0     0.92983   0.35589     0.59870        0\n",
              "1     0.91097   1.18439     0.72787        2\n",
              "2     0.53366  -0.05837     0.53411        0\n",
              "3     0.74118   0.35589     0.56641        0\n",
              "4     0.53366   0.77014     0.50182        0"
            ],
            "text/html": [
              "\n",
              "  <div id=\"df-ec96a69f-80b9-4d44-9d9a-393f83818bb2\">\n",
              "    <div class=\"colab-df-container\">\n",
              "      <div>\n",
              "<style scoped>\n",
              "    .dataframe tbody tr th:only-of-type {\n",
              "        vertical-align: middle;\n",
              "    }\n",
              "\n",
              "    .dataframe tbody tr th {\n",
              "        vertical-align: top;\n",
              "    }\n",
              "\n",
              "    .dataframe thead th {\n",
              "        text-align: right;\n",
              "    }\n",
              "</style>\n",
              "<table border=\"1\" class=\"dataframe\">\n",
              "  <thead>\n",
              "    <tr style=\"text-align: right;\">\n",
              "      <th></th>\n",
              "      <th>simplicity</th>\n",
              "      <th>fatalism</th>\n",
              "      <th>depression</th>\n",
              "      <th>GROUPk3</th>\n",
              "    </tr>\n",
              "  </thead>\n",
              "  <tbody>\n",
              "    <tr>\n",
              "      <th>0</th>\n",
              "      <td>0.92983</td>\n",
              "      <td>0.35589</td>\n",
              "      <td>0.59870</td>\n",
              "      <td>0</td>\n",
              "    </tr>\n",
              "    <tr>\n",
              "      <th>1</th>\n",
              "      <td>0.91097</td>\n",
              "      <td>1.18439</td>\n",
              "      <td>0.72787</td>\n",
              "      <td>2</td>\n",
              "    </tr>\n",
              "    <tr>\n",
              "      <th>2</th>\n",
              "      <td>0.53366</td>\n",
              "      <td>-0.05837</td>\n",
              "      <td>0.53411</td>\n",
              "      <td>0</td>\n",
              "    </tr>\n",
              "    <tr>\n",
              "      <th>3</th>\n",
              "      <td>0.74118</td>\n",
              "      <td>0.35589</td>\n",
              "      <td>0.56641</td>\n",
              "      <td>0</td>\n",
              "    </tr>\n",
              "    <tr>\n",
              "      <th>4</th>\n",
              "      <td>0.53366</td>\n",
              "      <td>0.77014</td>\n",
              "      <td>0.50182</td>\n",
              "      <td>0</td>\n",
              "    </tr>\n",
              "  </tbody>\n",
              "</table>\n",
              "</div>\n",
              "      <button class=\"colab-df-convert\" onclick=\"convertToInteractive('df-ec96a69f-80b9-4d44-9d9a-393f83818bb2')\"\n",
              "              title=\"Convert this dataframe to an interactive table.\"\n",
              "              style=\"display:none;\">\n",
              "        \n",
              "  <svg xmlns=\"http://www.w3.org/2000/svg\" height=\"24px\"viewBox=\"0 0 24 24\"\n",
              "       width=\"24px\">\n",
              "    <path d=\"M0 0h24v24H0V0z\" fill=\"none\"/>\n",
              "    <path d=\"M18.56 5.44l.94 2.06.94-2.06 2.06-.94-2.06-.94-.94-2.06-.94 2.06-2.06.94zm-11 1L8.5 8.5l.94-2.06 2.06-.94-2.06-.94L8.5 2.5l-.94 2.06-2.06.94zm10 10l.94 2.06.94-2.06 2.06-.94-2.06-.94-.94-2.06-.94 2.06-2.06.94z\"/><path d=\"M17.41 7.96l-1.37-1.37c-.4-.4-.92-.59-1.43-.59-.52 0-1.04.2-1.43.59L10.3 9.45l-7.72 7.72c-.78.78-.78 2.05 0 2.83L4 21.41c.39.39.9.59 1.41.59.51 0 1.02-.2 1.41-.59l7.78-7.78 2.81-2.81c.8-.78.8-2.07 0-2.86zM5.41 20L4 18.59l7.72-7.72 1.47 1.35L5.41 20z\"/>\n",
              "  </svg>\n",
              "      </button>\n",
              "      \n",
              "  <style>\n",
              "    .colab-df-container {\n",
              "      display:flex;\n",
              "      flex-wrap:wrap;\n",
              "      gap: 12px;\n",
              "    }\n",
              "\n",
              "    .colab-df-convert {\n",
              "      background-color: #E8F0FE;\n",
              "      border: none;\n",
              "      border-radius: 50%;\n",
              "      cursor: pointer;\n",
              "      display: none;\n",
              "      fill: #1967D2;\n",
              "      height: 32px;\n",
              "      padding: 0 0 0 0;\n",
              "      width: 32px;\n",
              "    }\n",
              "\n",
              "    .colab-df-convert:hover {\n",
              "      background-color: #E2EBFA;\n",
              "      box-shadow: 0px 1px 2px rgba(60, 64, 67, 0.3), 0px 1px 3px 1px rgba(60, 64, 67, 0.15);\n",
              "      fill: #174EA6;\n",
              "    }\n",
              "\n",
              "    [theme=dark] .colab-df-convert {\n",
              "      background-color: #3B4455;\n",
              "      fill: #D2E3FC;\n",
              "    }\n",
              "\n",
              "    [theme=dark] .colab-df-convert:hover {\n",
              "      background-color: #434B5C;\n",
              "      box-shadow: 0px 1px 3px 1px rgba(0, 0, 0, 0.15);\n",
              "      filter: drop-shadow(0px 1px 2px rgba(0, 0, 0, 0.3));\n",
              "      fill: #FFFFFF;\n",
              "    }\n",
              "  </style>\n",
              "\n",
              "      <script>\n",
              "        const buttonEl =\n",
              "          document.querySelector('#df-ec96a69f-80b9-4d44-9d9a-393f83818bb2 button.colab-df-convert');\n",
              "        buttonEl.style.display =\n",
              "          google.colab.kernel.accessAllowed ? 'block' : 'none';\n",
              "\n",
              "        async function convertToInteractive(key) {\n",
              "          const element = document.querySelector('#df-ec96a69f-80b9-4d44-9d9a-393f83818bb2');\n",
              "          const dataTable =\n",
              "            await google.colab.kernel.invokeFunction('convertToInteractive',\n",
              "                                                     [key], {});\n",
              "          if (!dataTable) return;\n",
              "\n",
              "          const docLinkHtml = 'Like what you see? Visit the ' +\n",
              "            '<a target=\"_blank\" href=https://colab.research.google.com/notebooks/data_table.ipynb>data table notebook</a>'\n",
              "            + ' to learn more about interactive tables.';\n",
              "          element.innerHTML = '';\n",
              "          dataTable['output_type'] = 'display_data';\n",
              "          await google.colab.output.renderOutput(dataTable, element);\n",
              "          const docLink = document.createElement('div');\n",
              "          docLink.innerHTML = docLinkHtml;\n",
              "          element.appendChild(docLink);\n",
              "        }\n",
              "      </script>\n",
              "    </div>\n",
              "  </div>\n",
              "  "
            ]
          },
          "metadata": {},
          "execution_count": 38
        }
      ]
    },
    {
      "cell_type": "code",
      "source": [
        "data['GROUPk3'].value_counts() "
      ],
      "metadata": {
        "id": "CcPwWOKhnbeb",
        "colab": {
          "base_uri": "https://localhost:8080/"
        },
        "outputId": "665d8072-cc0d-4afa-a020-03ba418177c3"
      },
      "execution_count": 39,
      "outputs": [
        {
          "output_type": "execute_result",
          "data": {
            "text/plain": [
              "2    33\n",
              "0    30\n",
              "1    19\n",
              "Name: GROUPk3, dtype: int64"
            ]
          },
          "metadata": {},
          "execution_count": 39
        }
      ]
    },
    {
      "cell_type": "markdown",
      "source": [
        "There are 29 observations in group 0, 27 in group 1, and 26 in group 2.\n",
        "\n",
        "Simplicity: Group 0 (mean 0.85), Group 1 (mean=1.46) and Group 2 (mean = 0.64)\n",
        "\n",
        "Fatalism: Group 0 (mean 1.03), Group 1 (mean=1.45) and Group 2 (mean = 0.47)\n",
        "\n",
        "Depression: Group 0 (mean 0.86), Group 1 (mean=1.56) and Group 2 (mean = 0.52)\n"
      ],
      "metadata": {
        "id": "J5Rl2CVvOswv"
      }
    },
    {
      "cell_type": "code",
      "source": [
        "#data.boxplot(by = 'GROUPk3',  layout=(2,4), figsize=(20, 15))"
      ],
      "metadata": {
        "id": "gE8w3kpGpNDh"
      },
      "execution_count": 40,
      "outputs": []
    },
    {
      "cell_type": "code",
      "source": [
        "dataClust3 = data.groupby(['GROUPk3'])\n",
        "dataClust3.mean()"
      ],
      "metadata": {
        "id": "RiH1XYrlOsP8",
        "colab": {
          "base_uri": "https://localhost:8080/",
          "height": 175
        },
        "outputId": "ef0c291f-4542-42fa-8812-b5b6be356107"
      },
      "execution_count": 41,
      "outputs": [
        {
          "output_type": "execute_result",
          "data": {
            "text/plain": [
              "         simplicity  fatalism  depression\n",
              "GROUPk3                                  \n",
              "0          0.620441  0.535396    0.530885\n",
              "1          1.681462  1.620451    1.606584\n",
              "2          0.952698  1.065139    1.077224"
            ],
            "text/html": [
              "\n",
              "  <div id=\"df-cdb60268-86d9-4328-a7ef-9dac00c56fc5\">\n",
              "    <div class=\"colab-df-container\">\n",
              "      <div>\n",
              "<style scoped>\n",
              "    .dataframe tbody tr th:only-of-type {\n",
              "        vertical-align: middle;\n",
              "    }\n",
              "\n",
              "    .dataframe tbody tr th {\n",
              "        vertical-align: top;\n",
              "    }\n",
              "\n",
              "    .dataframe thead th {\n",
              "        text-align: right;\n",
              "    }\n",
              "</style>\n",
              "<table border=\"1\" class=\"dataframe\">\n",
              "  <thead>\n",
              "    <tr style=\"text-align: right;\">\n",
              "      <th></th>\n",
              "      <th>simplicity</th>\n",
              "      <th>fatalism</th>\n",
              "      <th>depression</th>\n",
              "    </tr>\n",
              "    <tr>\n",
              "      <th>GROUPk3</th>\n",
              "      <th></th>\n",
              "      <th></th>\n",
              "      <th></th>\n",
              "    </tr>\n",
              "  </thead>\n",
              "  <tbody>\n",
              "    <tr>\n",
              "      <th>0</th>\n",
              "      <td>0.620441</td>\n",
              "      <td>0.535396</td>\n",
              "      <td>0.530885</td>\n",
              "    </tr>\n",
              "    <tr>\n",
              "      <th>1</th>\n",
              "      <td>1.681462</td>\n",
              "      <td>1.620451</td>\n",
              "      <td>1.606584</td>\n",
              "    </tr>\n",
              "    <tr>\n",
              "      <th>2</th>\n",
              "      <td>0.952698</td>\n",
              "      <td>1.065139</td>\n",
              "      <td>1.077224</td>\n",
              "    </tr>\n",
              "  </tbody>\n",
              "</table>\n",
              "</div>\n",
              "      <button class=\"colab-df-convert\" onclick=\"convertToInteractive('df-cdb60268-86d9-4328-a7ef-9dac00c56fc5')\"\n",
              "              title=\"Convert this dataframe to an interactive table.\"\n",
              "              style=\"display:none;\">\n",
              "        \n",
              "  <svg xmlns=\"http://www.w3.org/2000/svg\" height=\"24px\"viewBox=\"0 0 24 24\"\n",
              "       width=\"24px\">\n",
              "    <path d=\"M0 0h24v24H0V0z\" fill=\"none\"/>\n",
              "    <path d=\"M18.56 5.44l.94 2.06.94-2.06 2.06-.94-2.06-.94-.94-2.06-.94 2.06-2.06.94zm-11 1L8.5 8.5l.94-2.06 2.06-.94-2.06-.94L8.5 2.5l-.94 2.06-2.06.94zm10 10l.94 2.06.94-2.06 2.06-.94-2.06-.94-.94-2.06-.94 2.06-2.06.94z\"/><path d=\"M17.41 7.96l-1.37-1.37c-.4-.4-.92-.59-1.43-.59-.52 0-1.04.2-1.43.59L10.3 9.45l-7.72 7.72c-.78.78-.78 2.05 0 2.83L4 21.41c.39.39.9.59 1.41.59.51 0 1.02-.2 1.41-.59l7.78-7.78 2.81-2.81c.8-.78.8-2.07 0-2.86zM5.41 20L4 18.59l7.72-7.72 1.47 1.35L5.41 20z\"/>\n",
              "  </svg>\n",
              "      </button>\n",
              "      \n",
              "  <style>\n",
              "    .colab-df-container {\n",
              "      display:flex;\n",
              "      flex-wrap:wrap;\n",
              "      gap: 12px;\n",
              "    }\n",
              "\n",
              "    .colab-df-convert {\n",
              "      background-color: #E8F0FE;\n",
              "      border: none;\n",
              "      border-radius: 50%;\n",
              "      cursor: pointer;\n",
              "      display: none;\n",
              "      fill: #1967D2;\n",
              "      height: 32px;\n",
              "      padding: 0 0 0 0;\n",
              "      width: 32px;\n",
              "    }\n",
              "\n",
              "    .colab-df-convert:hover {\n",
              "      background-color: #E2EBFA;\n",
              "      box-shadow: 0px 1px 2px rgba(60, 64, 67, 0.3), 0px 1px 3px 1px rgba(60, 64, 67, 0.15);\n",
              "      fill: #174EA6;\n",
              "    }\n",
              "\n",
              "    [theme=dark] .colab-df-convert {\n",
              "      background-color: #3B4455;\n",
              "      fill: #D2E3FC;\n",
              "    }\n",
              "\n",
              "    [theme=dark] .colab-df-convert:hover {\n",
              "      background-color: #434B5C;\n",
              "      box-shadow: 0px 1px 3px 1px rgba(0, 0, 0, 0.15);\n",
              "      filter: drop-shadow(0px 1px 2px rgba(0, 0, 0, 0.3));\n",
              "      fill: #FFFFFF;\n",
              "    }\n",
              "  </style>\n",
              "\n",
              "      <script>\n",
              "        const buttonEl =\n",
              "          document.querySelector('#df-cdb60268-86d9-4328-a7ef-9dac00c56fc5 button.colab-df-convert');\n",
              "        buttonEl.style.display =\n",
              "          google.colab.kernel.accessAllowed ? 'block' : 'none';\n",
              "\n",
              "        async function convertToInteractive(key) {\n",
              "          const element = document.querySelector('#df-cdb60268-86d9-4328-a7ef-9dac00c56fc5');\n",
              "          const dataTable =\n",
              "            await google.colab.kernel.invokeFunction('convertToInteractive',\n",
              "                                                     [key], {});\n",
              "          if (!dataTable) return;\n",
              "\n",
              "          const docLinkHtml = 'Like what you see? Visit the ' +\n",
              "            '<a target=\"_blank\" href=https://colab.research.google.com/notebooks/data_table.ipynb>data table notebook</a>'\n",
              "            + ' to learn more about interactive tables.';\n",
              "          element.innerHTML = '';\n",
              "          dataTable['output_type'] = 'display_data';\n",
              "          await google.colab.output.renderOutput(dataTable, element);\n",
              "          const docLink = document.createElement('div');\n",
              "          docLink.innerHTML = docLinkHtml;\n",
              "          element.appendChild(docLink);\n",
              "        }\n",
              "      </script>\n",
              "    </div>\n",
              "  </div>\n",
              "  "
            ]
          },
          "metadata": {},
          "execution_count": 41
        }
      ]
    },
    {
      "cell_type": "code",
      "source": [
        "sns.boxplot(x=\"GROUPk3\", y=\"simplicity\", data=data)\n",
        "sns.swarmplot(x=\"GROUPk3\", y=\"simplicity\", data=data, color=\".25\")\n",
        "plt.xlabel('Group')"
      ],
      "metadata": {
        "id": "r7wMM2uQO-F9",
        "colab": {
          "base_uri": "https://localhost:8080/",
          "height": 297
        },
        "outputId": "42e25aba-eb91-4132-a387-05abdfd56370"
      },
      "execution_count": 42,
      "outputs": [
        {
          "output_type": "execute_result",
          "data": {
            "text/plain": [
              "Text(0.5, 0, 'Group')"
            ]
          },
          "metadata": {},
          "execution_count": 42
        },
        {
          "output_type": "display_data",
          "data": {
            "text/plain": [
              "<Figure size 432x288 with 1 Axes>"
            ],
            "image/png": "[encoded data removed]"
          },
          "metadata": {
            "needs_background": "light"
          }
        }
      ]
    },
    {
      "cell_type": "code",
      "source": [
        "sns.boxplot(x=\"GROUPk3\", y=\"fatalism\", data=data)\n",
        "sns.swarmplot(x=\"GROUPk3\", y=\"fatalism\", data=data, color=\".25\")\n",
        "plt.xlabel('Group')"
      ],
      "metadata": {
        "id": "21VKD2V-QS7F",
        "colab": {
          "base_uri": "https://localhost:8080/",
          "height": 297
        },
        "outputId": "b9039909-0858-44b7-c525-c1b4cee63450"
      },
      "execution_count": 43,
      "outputs": [
        {
          "output_type": "execute_result",
          "data": {
            "text/plain": [
              "Text(0.5, 0, 'Group')"
            ]
          },
          "metadata": {},
          "execution_count": 43
        },
        {
          "output_type": "display_data",
          "data": {
            "text/plain": [
              "<Figure size 432x288 with 1 Axes>"
            ],
            "image/png": "[encoded data removed]"
          },
          "metadata": {
            "needs_background": "light"
          }
        }
      ]
    },
    {
      "cell_type": "code",
      "source": [
        "sns.boxplot(x=\"GROUPk3\", y=\"depression\", data=data)\n",
        "sns.swarmplot(x=\"GROUPk3\", y=\"depression\", data=data, color=\".25\")\n",
        "plt.xlabel('Group')"
      ],
      "metadata": {
        "id": "TzlgmRPeQZhu",
        "colab": {
          "base_uri": "https://localhost:8080/",
          "height": 297
        },
        "outputId": "d95587d6-254b-4bf2-ab86-eb9337916ed3"
      },
      "execution_count": 44,
      "outputs": [
        {
          "output_type": "execute_result",
          "data": {
            "text/plain": [
              "Text(0.5, 0, 'Group')"
            ]
          },
          "metadata": {},
          "execution_count": 44
        },
        {
          "output_type": "display_data",
          "data": {
            "text/plain": [
              "<Figure size 432x288 with 1 Axes>"
            ],
            "image/png": "[encoded data removed]"
          },
          "metadata": {
            "needs_background": "light"
          }
        }
      ]
    },
    {
      "cell_type": "markdown",
      "source": [
        "Conclusion\n",
        "\n",
        "Discrete groups were created using k=3 with minimal overlapping among the groups. Group 1 has higher simplicity levels, which correlates with higher depression and fatalism levels. Similarly, Group 0 and Group 2 have moderate and lower simplicity thinking respectively, which correlates with moderate and lower depression levels.\n",
        "\n",
        "Groups 0 and 1 showed a strong correlation between simplicity, fatalism, and depression. Group 2 showed lower simplicity but higher fatalism. This group is an exception to the correlation between depression and fatalism as well. Further understanding of this group to required to know what is causing fatalism.\n",
        "\n",
        "In conclusion, there is a linear and strong positive relationship between black and white thinking and depression using the whole dataset. K-means clustering helped in identifying two classes of the population. Majority class (groups 0 and 1) strongly correlated with simplicity, depression, and fatalism. Minority class (group 2), even though they experience fatalism, it does not correlate with simplicity and depression. Without cluster analysis, this class may be mistakenly confined to the majority class."
      ],
      "metadata": {
        "id": "CfMh9hJ3tvRc"
      }
    },
    {
      "cell_type": "markdown",
      "source": [
        "References\n",
        "\n",
        "https://www.healthline.com/health/mental-health/black-and-white-thinking\n",
        "\n",
        "https://statistics.laerd.com/statistical-guides/pearson-correlation-coefficient-statistical-guide.php\n",
        "\n",
        "https://www.scikit-yb.org/en/latest/api/cluster/elbow.html\n",
        "\n",
        "https://www.statology.org/z-score-normalization/#:~:text=Z%2Dscore%20normalization%20refers%20to,the%20standard%20deviation%20is%201.\n",
        "\n",
        "https://www.analyticsvidhya.com/blog/2020/02/4-types-of-distance-metrics-in-machine-learning/\n",
        "\n",
        "Acknowledgments\n",
        "\n",
        "I worked on this project as part of the AIML post-graduate program offered by the University of Texas, Austin."
      ],
      "metadata": {
        "id": "NC9zyhaMt59A"
      }
    }
  ],
  "metadata": {
    "colab": {
      "name": "Depression_UnsupervisedLearning.ipynb",
      "provenance": [],
      "collapsed_sections": [],
      "authorship_tag": "ABX9TyOA+lvnAzuj90aA+bXMhRnZ",
      "include_colab_link": true
    },
    "kernelspec": {
      "display_name": "Python 3",
      "name": "python3"
    },
    "language_info": {
      "name": "python"
    }
  },
  "nbformat": 4,
  "nbformat_minor": 0
}